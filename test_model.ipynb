{
 "cells": [
  {
   "cell_type": "markdown",
   "id": "7c876d64",
   "metadata": {},
   "source": [
    "# 🧪 Test du Modèle d'Estimation Immobilière\n",
    "\n",
    "Ce notebook contient les tests unitaires pour valider le modèle d'estimation des prix immobiliers au Maroc.\n",
    "\n",
    "## Objectifs des tests :\n",
    "1. Vérifier le chargement du modèle\n",
    "2. Tester les prédictions sur plusieurs exemples d'appartements\n",
    "3. Évaluer la précision par rapport aux prix réels estimés"
   ]
  },
  {
   "cell_type": "markdown",
   "id": "cbc5b045",
   "metadata": {},
   "source": [
    "## 1. Importation des bibliothèques"
   ]
  },
  {
   "cell_type": "code",
   "execution_count": 1,
   "id": "440f32be",
   "metadata": {},
   "outputs": [],
   "source": [
    "import unittest\n",
    "import joblib\n",
    "import pandas as pd\n",
    "import warnings\n",
    "warnings.filterwarnings('ignore')"
   ]
  },
  {
   "cell_type": "markdown",
   "id": "bb117336",
   "metadata": {},
   "source": [
    "## 2. Chargement du modèle"
   ]
  },
  {
   "cell_type": "code",
   "execution_count": 2,
   "id": "49a368d1",
   "metadata": {},
   "outputs": [
    {
     "name": "stdout",
     "output_type": "stream",
     "text": [
      "✅ Modèle chargé avec succès\n",
      "Type du modèle : RandomForestRegressor\n"
     ]
    }
   ],
   "source": [
    "# Charger le modèle pré-entraîné\n",
    "model = joblib.load('models/model.pkl')\n",
    "print(\"✅ Modèle chargé avec succès\")\n",
    "print(f\"Type du modèle : {type(model).__name__}\")"
   ]
  },
  {
   "cell_type": "markdown",
   "id": "e680459b",
   "metadata": {},
   "source": [
    "## 3. Vérification des features attendues"
   ]
  },
  {
   "cell_type": "code",
   "execution_count": 3,
   "id": "460a69b0",
   "metadata": {},
   "outputs": [
    {
     "name": "stdout",
     "output_type": "stream",
     "text": [
      "Features attendues par le modèle :\n",
      "['price_per_m2', 'surface_area', 'nb_baths', 'total_rooms', 'nb_rooms', 'Ascenseur', 'Parking', 'Climatisation', 'Terrasse', 'Chauffage', 'Concierge', 'Balcon']\n",
      "\n",
      "Nombre de features : 12\n"
     ]
    }
   ],
   "source": [
    "# Afficher les features attendues par le modèle\n",
    "print(\"Features attendues par le modèle :\")\n",
    "print(list(model.feature_names_in_))\n",
    "print(f\"\\nNombre de features : {len(model.feature_names_in_)}\")"
   ]
  },
  {
   "cell_type": "markdown",
   "id": "1dd546fb",
   "metadata": {},
   "source": [
    "## 4. Préparation des données de test"
   ]
  },
  {
   "cell_type": "code",
   "execution_count": 4,
   "id": "ba16997d",
   "metadata": {},
   "outputs": [
    {
     "name": "stdout",
     "output_type": "stream",
     "text": [
      "📋 Données de test créées :\n",
      "Nombre d'appartements à tester : 5\n",
      "\n",
      "============================================================\n",
      "   price_per_m2  surface_area  nb_baths  total_rooms  nb_rooms  Ascenseur  \\\n",
      "0         15000            80         2            4         3          1   \n",
      "1         12000           120         3            5         4          1   \n",
      "2         18000            60         1            3         2          0   \n",
      "3         10000           100         2            4         3          1   \n",
      "4         20000            50         1            2         1          1   \n",
      "\n",
      "   Parking  Climatisation  Terrasse  Chauffage  Concierge  Balcon  \n",
      "0        1              1         0          1          0       1  \n",
      "1        1              1         1          1          1       1  \n",
      "2        0              1         0          0          0       1  \n",
      "3        1              0         1          1          0       0  \n",
      "4        0              1         0          1          1       1  \n"
     ]
    }
   ],
   "source": [
    "# Créer plusieurs exemples d'appartements pour tester le modèle\n",
    "# Utiliser l'ordre exact des features utilisé lors de l'entraînement\n",
    "test_data = pd.DataFrame({\n",
    "    'price_per_m2': [15000, 12000, 18000, 10000, 20000],\n",
    "    'surface_area': [80, 120, 60, 100, 50],\n",
    "    'nb_baths': [2, 3, 1, 2, 1],\n",
    "    'total_rooms': [4, 5, 3, 4, 2],\n",
    "    'nb_rooms': [3, 4, 2, 3, 1],\n",
    "    'Ascenseur': [1, 1, 0, 1, 1],\n",
    "    'Parking': [1, 1, 0, 1, 0],\n",
    "    'Climatisation': [1, 1, 1, 0, 1],\n",
    "    'Terrasse': [0, 1, 0, 1, 0],\n",
    "    'Chauffage': [1, 1, 0, 1, 1],\n",
    "    'Concierge': [0, 1, 0, 0, 1],\n",
    "    'Balcon': [1, 1, 1, 0, 1]\n",
    "})\n",
    "\n",
    "print(\"📋 Données de test créées :\")\n",
    "print(f\"Nombre d'appartements à tester : {len(test_data)}\")\n",
    "print(\"\\n\" + \"=\"*60)\n",
    "print(test_data)"
   ]
  },
  {
   "cell_type": "markdown",
   "id": "6b91b722",
   "metadata": {},
   "source": [
    "## 5. Test de prédiction"
   ]
  },
  {
   "cell_type": "code",
   "execution_count": 5,
   "id": "1f95a72d",
   "metadata": {},
   "outputs": [
    {
     "name": "stdout",
     "output_type": "stream",
     "text": [
      "🔮 Prédictions effectuées :\n",
      "Nombre de prédictions : 5\n",
      "Type des prédictions : <class 'numpy.float64'>\n",
      "\n",
      "📊 Prédictions brutes :\n",
      "Appartement 1: 1,184,840.00 MAD\n",
      "Appartement 2: 1,420,950.00 MAD\n",
      "Appartement 3: 1,095,632.50 MAD\n",
      "Appartement 4: 1,001,176.00 MAD\n",
      "Appartement 5: 973,360.00 MAD\n"
     ]
    }
   ],
   "source": [
    "# Effectuer les prédictions\n",
    "predictions = model.predict(test_data)\n",
    "\n",
    "print(\"🔮 Prédictions effectuées :\")\n",
    "print(f\"Nombre de prédictions : {len(predictions)}\")\n",
    "print(f\"Type des prédictions : {type(predictions[0])}\")\n",
    "\n",
    "# Afficher les prédictions brutes\n",
    "print(\"\\n📊 Prédictions brutes :\")\n",
    "for i, pred in enumerate(predictions):\n",
    "    print(f\"Appartement {i+1}: {pred:,.2f} MAD\")"
   ]
  },
  {
   "cell_type": "markdown",
   "id": "87d9c532",
   "metadata": {},
   "source": [
    "## 6. Comparaison avec les prix réels estimés"
   ]
  },
  {
   "cell_type": "code",
   "execution_count": 6,
   "id": "1aff74f8",
   "metadata": {},
   "outputs": [
    {
     "name": "stdout",
     "output_type": "stream",
     "text": [
      "🏠 ANALYSE COMPARATIVE DES PRÉDICTIONS\n",
      "======================================================================\n",
      "\n",
      "📋 APPARTEMENT 1:\n",
      "   📐 Surface: 80m² | 🛏️ Chambres: 3 | 🚿 SDB: 2\n",
      "   🏢 Équipements: Ascenseur, Parking, Climatisation, Chauffage, Balcon\n",
      "   🤖 Prix prédit     : 1,184,840.00 MAD\n",
      "   🏷️  Prix réel estimé: 1,200,000.00 MAD\n",
      "   📊 Différence      : 15,160.00 MAD (1.3%)\n",
      "   🎯 Prédiction EXCELLENTE (≤5% d'écart)\n",
      "\n",
      "📋 APPARTEMENT 2:\n",
      "   📐 Surface: 120m² | 🛏️ Chambres: 4 | 🚿 SDB: 3\n",
      "   🏢 Équipements: Ascenseur, Parking, Climatisation, Terrasse, Chauffage, Concierge, Balcon\n",
      "   🤖 Prix prédit     : 1,420,950.00 MAD\n",
      "   🏷️  Prix réel estimé: 1,440,000.00 MAD\n",
      "   📊 Différence      : 19,050.00 MAD (1.3%)\n",
      "   🎯 Prédiction EXCELLENTE (≤5% d'écart)\n",
      "\n",
      "📋 APPARTEMENT 3:\n",
      "   📐 Surface: 60m² | 🛏️ Chambres: 2 | 🚿 SDB: 1\n",
      "   🏢 Équipements: Climatisation, Balcon\n",
      "   🤖 Prix prédit     : 1,095,632.50 MAD\n",
      "   🏷️  Prix réel estimé: 1,080,000.00 MAD\n",
      "   📊 Différence      : 15,632.50 MAD (1.4%)\n",
      "   🎯 Prédiction EXCELLENTE (≤5% d'écart)\n",
      "\n",
      "📋 APPARTEMENT 4:\n",
      "   📐 Surface: 100m² | 🛏️ Chambres: 3 | 🚿 SDB: 2\n",
      "   🏢 Équipements: Ascenseur, Parking, Terrasse, Chauffage\n",
      "   🤖 Prix prédit     : 1,001,176.00 MAD\n",
      "   🏷️  Prix réel estimé: 1,000,000.00 MAD\n",
      "   📊 Différence      : 1,176.00 MAD (0.1%)\n",
      "   🎯 Prédiction EXCELLENTE (≤5% d'écart)\n",
      "\n",
      "📋 APPARTEMENT 5:\n",
      "   📐 Surface: 50m² | 🛏️ Chambres: 1 | 🚿 SDB: 1\n",
      "   🏢 Équipements: Ascenseur, Climatisation, Chauffage, Concierge, Balcon\n",
      "   🤖 Prix prédit     : 973,360.00 MAD\n",
      "   🏷️  Prix réel estimé: 1,000,000.00 MAD\n",
      "   📊 Différence      : 26,640.00 MAD (2.7%)\n",
      "   🎯 Prédiction EXCELLENTE (≤5% d'écart)\n"
     ]
    }
   ],
   "source": [
    "# Prix estimés réels pour chaque appartement (exemples basés sur le marché marocain)\n",
    "real_prices = [1200000, 1440000, 1080000, 1000000, 1000000]  # MAD\n",
    "\n",
    "print(\"🏠 ANALYSE COMPARATIVE DES PRÉDICTIONS\")\n",
    "print(\"=\"*70)\n",
    "\n",
    "# Analyser chaque appartement\n",
    "for i in range(len(test_data)):\n",
    "    pred_price = predictions[i]\n",
    "    real_price = real_prices[i]\n",
    "    difference = abs(pred_price - real_price)\n",
    "    percentage_diff = (difference / real_price) * 100\n",
    "    \n",
    "    print(f\"\\n📋 APPARTEMENT {i+1}:\")\n",
    "    print(f\"   📐 Surface: {test_data.iloc[i]['surface_area']}m² | 🛏️ Chambres: {test_data.iloc[i]['nb_rooms']} | 🚿 SDB: {test_data.iloc[i]['nb_baths']}\")\n",
    "    \n",
    "    # Afficher les équipements\n",
    "    equipments = []\n",
    "    if test_data.iloc[i]['Ascenseur']: equipments.append('Ascenseur')\n",
    "    if test_data.iloc[i]['Parking']: equipments.append('Parking')\n",
    "    if test_data.iloc[i]['Climatisation']: equipments.append('Climatisation')\n",
    "    if test_data.iloc[i]['Terrasse']: equipments.append('Terrasse')\n",
    "    if test_data.iloc[i]['Chauffage']: equipments.append('Chauffage')\n",
    "    if test_data.iloc[i]['Concierge']: equipments.append('Concierge')\n",
    "    if test_data.iloc[i]['Balcon']: equipments.append('Balcon')\n",
    "    \n",
    "    print(f\"   🏢 Équipements: {', '.join(equipments) if equipments else 'Aucun'}\")\n",
    "    print(f\"   🤖 Prix prédit     : {pred_price:,.2f} MAD\")\n",
    "    print(f\"   🏷️  Prix réel estimé: {real_price:,.2f} MAD\")\n",
    "    print(f\"   📊 Différence      : {difference:,.2f} MAD ({percentage_diff:.1f}%)\")\n",
    "    \n",
    "    # Évaluation de la précision\n",
    "    if percentage_diff <= 5:\n",
    "        print(\"   🎯 Prédiction EXCELLENTE (≤5% d'écart)\")\n",
    "    elif percentage_diff <= 10:\n",
    "        print(\"   ✅ Prédiction TRÈS BONNE (≤10% d'écart)\")\n",
    "    elif percentage_diff <= 20:\n",
    "        print(\"   🟡 Prédiction ACCEPTABLE (≤20% d'écart)\")\n",
    "    else:\n",
    "        print(\"   ❌ Prédiction À AMÉLIORER (>20% d'écart)\")"
   ]
  },
  {
   "cell_type": "markdown",
   "id": "ee172d1c",
   "metadata": {},
   "source": [
    "## 7. Statistiques globales"
   ]
  },
  {
   "cell_type": "code",
   "execution_count": 7,
   "id": "c6fa4e21",
   "metadata": {},
   "outputs": [
    {
     "name": "stdout",
     "output_type": "stream",
     "text": [
      "📊 STATISTIQUES GLOBALES DE PERFORMANCE\n",
      "==================================================\n",
      "📈 Écart moyen        : 15,531.70 MAD (1.4%)\n",
      "📉 Écart minimum      : 1,176.00 MAD (0.1%)\n",
      "📊 Écart maximum      : 26,640.00 MAD (2.7%)\n",
      "🎯 Précision moyenne  : 98.6%\n",
      "\n",
      "🏆 ÉVALUATION GLOBALE : MODÈLE EXCELLENT\n",
      "\n",
      "==================================================\n",
      "✅ TESTS TERMINÉS AVEC SUCCÈS\n"
     ]
    }
   ],
   "source": [
    "# Calculer les statistiques globales\n",
    "differences = [abs(predictions[i] - real_prices[i]) for i in range(len(test_data))]\n",
    "percentage_diffs = [abs(predictions[i] - real_prices[i]) / real_prices[i] * 100 for i in range(len(test_data))]\n",
    "\n",
    "avg_diff = sum(differences) / len(differences)\n",
    "avg_percentage = sum(percentage_diffs) / len(percentage_diffs)\n",
    "max_diff = max(differences)\n",
    "min_diff = min(differences)\n",
    "max_percentage = max(percentage_diffs)\n",
    "min_percentage = min(percentage_diffs)\n",
    "\n",
    "print(\"📊 STATISTIQUES GLOBALES DE PERFORMANCE\")\n",
    "print(\"=\"*50)\n",
    "print(f\"📈 Écart moyen        : {avg_diff:,.2f} MAD ({avg_percentage:.1f}%)\")\n",
    "print(f\"📉 Écart minimum      : {min_diff:,.2f} MAD ({min_percentage:.1f}%)\")\n",
    "print(f\"📊 Écart maximum      : {max_diff:,.2f} MAD ({max_percentage:.1f}%)\")\n",
    "print(f\"🎯 Précision moyenne  : {100 - avg_percentage:.1f}%\")\n",
    "\n",
    "# Évaluation globale\n",
    "if avg_percentage <= 5:\n",
    "    print(\"\\n🏆 ÉVALUATION GLOBALE : MODÈLE EXCELLENT\")\n",
    "elif avg_percentage <= 10:\n",
    "    print(\"\\n✅ ÉVALUATION GLOBALE : MODÈLE TRÈS BON\")\n",
    "elif avg_percentage <= 20:\n",
    "    print(\"\\n🟡 ÉVALUATION GLOBALE : MODÈLE ACCEPTABLE\")\n",
    "else:\n",
    "    print(\"\\n❌ ÉVALUATION GLOBALE : MODÈLE À AMÉLIORER\")\n",
    "\n",
    "print(\"\\n\" + \"=\"*50)\n",
    "print(\"✅ TESTS TERMINÉS AVEC SUCCÈS\")"
   ]
  },
  {
   "cell_type": "markdown",
   "id": "8e4d25b3",
   "metadata": {},
   "source": [
    "## 8. Test unitaire programmatique"
   ]
  },
  {
   "cell_type": "code",
   "execution_count": 8,
   "id": "73a29a4c",
   "metadata": {},
   "outputs": [
    {
     "name": "stderr",
     "output_type": "stream",
     "text": [
      "----------------------------------------------------------------------\n",
      "Ran 4 tests in 0.000s\n",
      "\n",
      "OK\n"
     ]
    },
    {
     "name": "stdout",
     "output_type": "stream",
     "text": [
      "✅ Test chargement modèle : RÉUSSI\n",
      "✅ Test plage prédictions : RÉUSSI\n",
      "✅ Test forme prédictions : RÉUSSI\n",
      "✅ Test type prédictions : RÉUSSI\n",
      "\n",
      "🎉 TOUS LES TESTS UNITAIRES ONT RÉUSSI !\n"
     ]
    }
   ],
   "source": [
    "# Exécuter les tests unitaires\n",
    "class TestModel(unittest.TestCase):\n",
    "    def test_model_load(self):\n",
    "        \"\"\"Test si le modèle peut être chargé\"\"\"\n",
    "        self.assertIsNotNone(model)\n",
    "        print(\"✅ Test chargement modèle : RÉUSSI\")\n",
    "    \n",
    "    def test_prediction_shape(self):\n",
    "        \"\"\"Test si les prédictions ont la bonne forme\"\"\"\n",
    "        self.assertEqual(predictions.shape, (len(test_data),))\n",
    "        print(\"✅ Test forme prédictions : RÉUSSI\")\n",
    "    \n",
    "    def test_prediction_type(self):\n",
    "        \"\"\"Test si les prédictions sont du bon type\"\"\"\n",
    "        self.assertTrue(all(isinstance(p, (float, int)) for p in predictions))\n",
    "        print(\"✅ Test type prédictions : RÉUSSI\")\n",
    "    \n",
    "    def test_prediction_range(self):\n",
    "        \"\"\"Test si les prédictions sont dans une plage raisonnable\"\"\"\n",
    "        for pred in predictions:\n",
    "            self.assertGreater(pred, 0, \"Prix doit être positif\")\n",
    "            self.assertLess(pred, 10000000, \"Prix doit être réaliste\")\n",
    "        print(\"✅ Test plage prédictions : RÉUSSI\")\n",
    "\n",
    "# Exécuter les tests\n",
    "if __name__ == '__main__':\n",
    "    suite = unittest.TestLoader().loadTestsFromTestCase(TestModel)\n",
    "    runner = unittest.TextTestRunner(verbosity=0)\n",
    "    result = runner.run(suite)\n",
    "    \n",
    "    if result.wasSuccessful():\n",
    "        print(\"\\n🎉 TOUS LES TESTS UNITAIRES ONT RÉUSSI !\")\n",
    "    else:\n",
    "        print(\"\\n❌ CERTAINS TESTS ONT ÉCHOUÉ\")"
   ]
  }
 ],
 "metadata": {
  "kernelspec": {
   "display_name": "Python 3",
   "language": "python",
   "name": "python3"
  },
  "language_info": {
   "codemirror_mode": {
    "name": "ipython",
    "version": 3
   },
   "file_extension": ".py",
   "mimetype": "text/x-python",
   "name": "python",
   "nbconvert_exporter": "python",
   "pygments_lexer": "ipython3",
   "version": "3.13.3"
  }
 },
 "nbformat": 4,
 "nbformat_minor": 5
}
